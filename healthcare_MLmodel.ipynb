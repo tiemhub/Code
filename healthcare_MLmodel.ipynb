{
 "cells": [
  {
   "cell_type": "code",
   "execution_count": 1,
   "id": "2f054638",
   "metadata": {},
   "outputs": [],
   "source": [
    "import pandas as pd\n",
    "import numpy as np\n",
    "from sklearn.model_selection import train_test_split\n",
    "from sklearn.preprocessing import StandardScaler, PolynomialFeatures, MinMaxScaler, RobustScaler\n",
    "from sklearn.linear_model import Ridge, LinearRegression\n",
    "from sklearn.ensemble import RandomForestClassifier\n",
    "from sklearn.model_selection import cross_validate,GridSearchCV\n",
    "\n",
    "import matplotlib.pyplot as plt"
   ]
  },
  {
   "cell_type": "code",
   "execution_count": 2,
   "id": "09fd0d62",
   "metadata": {},
   "outputs": [
    {
     "name": "stdout",
     "output_type": "stream",
     "text": [
      "[name: \"/device:CPU:0\"\n",
      "device_type: \"CPU\"\n",
      "memory_limit: 268435456\n",
      "locality {\n",
      "}\n",
      "incarnation: 16759875034939692824\n",
      "xla_global_id: -1\n",
      ", name: \"/device:GPU:0\"\n",
      "device_type: \"GPU\"\n",
      "memory_limit: 6964641792\n",
      "locality {\n",
      "  bus_id: 1\n",
      "  links {\n",
      "  }\n",
      "}\n",
      "incarnation: 12541519110358688245\n",
      "physical_device_desc: \"device: 0, name: NVIDIA GeForce GTX 1070, pci bus id: 0000:06:00.0, compute capability: 6.1\"\n",
      "xla_global_id: 416903419\n",
      "]\n"
     ]
    }
   ],
   "source": [
    "import tensorflow as tf\n",
    "\n",
    "#gpu가 텐서플로우에 인식되고 있는지 확인\n",
    "from tensorflow.python.client import device_lib\n",
    "print(device_lib.list_local_devices())"
   ]
  },
  {
   "cell_type": "code",
   "execution_count": 4,
   "id": "2330804b",
   "metadata": {},
   "outputs": [],
   "source": [
    "FILE_NAME1 = 'C:/Code/Jupyter/DATA/datafile1_fillna.csv'\n",
    "FILE_NAME2 = 'C:/Code/Jupyter/DATA/datafile1_dropna.csv'\n",
    "\n",
    "df = pd.read_csv(FILE_NAME2,encoding='cp949')"
   ]
  },
  {
   "cell_type": "code",
   "execution_count": 5,
   "id": "7d784686",
   "metadata": {},
   "outputs": [
    {
     "data": {
      "text/plain": [
       "['고혈압.고혈압.전체.rs16998073',\n",
       " '고혈압.고혈압.전체.rs11191582',\n",
       " '고혈압.고혈압.전체.rs671',\n",
       " '고혈압.수축기혈압.전체.rs3790604',\n",
       " '고혈압.수축기혈압.전체.rs1731249',\n",
       " '고혈압.수축기혈압.전체.rs17046097',\n",
       " '고혈압.수축기혈압.전체.rs4684242',\n",
       " '고혈압.수축기혈압.전체.rs9814480',\n",
       " '고혈압.수축기혈압.전체.rs79581935',\n",
       " '고혈압.수축기혈압.전체.rs16896398',\n",
       " '고혈압.수축기혈압.전체.rs62525059',\n",
       " '고혈압.수축기혈압.전체.rs569550',\n",
       " '고혈압.수축기혈압.전체.rs6590811',\n",
       " '고혈압.수축기혈압.전체.rs11105364',\n",
       " '고혈압.수축기혈압.전체.rs1451538',\n",
       " '고혈압.수축기혈압.전체.rs6031431',\n",
       " '고혈압.이완기혈압.전체.rs10776752',\n",
       " '고혈압.이완기혈압.전체.rs72806698',\n",
       " '고혈압.이완기혈압.전체.rs4684242',\n",
       " '고혈압.이완기혈압.전체.rs3774427',\n",
       " '고혈압.이완기혈압.전체.rs16998073',\n",
       " '고혈압.이완기혈압.전체.rs16896398',\n",
       " '고혈압.이완기혈압.전체.rs11191871',\n",
       " '고혈압.이완기혈압.전체.rs1689040',\n",
       " '고혈압.이완기혈압.전체.rs1407040',\n",
       " '고지혈증.고콜레스테롤혈증.전체.rs151193009',\n",
       " '고지혈증.고콜레스테롤혈증.전체.rs12740374',\n",
       " '고지혈증.고콜레스테롤혈증.전체.rs13306206',\n",
       " '고지혈증.고콜레스테롤혈증.전체.rs1260326',\n",
       " '고지혈증.고콜레스테롤혈증.전체.rs75214121',\n",
       " '고지혈증.고콜레스테롤혈증.전체.rs2980875',\n",
       " '고지혈증.고콜레스테롤혈증.전체.rs1883025',\n",
       " '고지혈증.고콜레스테롤혈증.전체.rs1077835',\n",
       " '고지혈증.고콜레스테롤혈증.전체.rs9958734',\n",
       " '고지혈증.고콜레스테롤혈증.전체.rs2738464',\n",
       " '고지혈증.저HDL콜레스테롤혈증.전체.rs17410996',\n",
       " '고지혈증.저HDL콜레스테롤혈증.전체.rs2575876',\n",
       " '고지혈증.저HDL콜레스테롤혈증.전체.rs10773112',\n",
       " '고지혈증.저HDL콜레스테롤혈증.전체.rs1077835',\n",
       " '고지혈증.고중성지방혈증.전체.rs1260326',\n",
       " '고지혈증.고중성지방혈증.전체.rs10503669',\n",
       " '고지혈증.고중성지방혈증.전체.rs72643559',\n",
       " '고지혈증.고중성지방혈증.전체.rs651821',\n",
       " '고지혈증.고중성지방혈증.전체.rs58542926',\n",
       " '고지혈증.고중성지방혈증.전체.rs738409',\n",
       " '고지혈증.총콜레스테롤.전체.rs12740374',\n",
       " '고지혈증.총콜레스테롤.전체.rs75352129',\n",
       " '고지혈증.총콜레스테롤.전체.rs1260326',\n",
       " '고지혈증.총콜레스테롤.전체.rs58143210',\n",
       " '고지혈증.총콜레스테롤.전체.rs11748027',\n",
       " '고지혈증.총콜레스테롤.전체.rs6970673',\n",
       " '고지혈증.총콜레스테롤.전체.rs6982502',\n",
       " '고지혈증.총콜레스테롤.전체.rs1883025',\n",
       " '고지혈증.총콜레스테롤.전체.rs57594838',\n",
       " '고지혈증.총콜레스테롤.전체.rs97384',\n",
       " '고지혈증.총콜레스테롤.전체.rs75542613',\n",
       " '고지혈증.총콜레스테롤.전체.rs1169288',\n",
       " '고지혈증.총콜레스테롤.전체.rs1800588',\n",
       " '고지혈증.총콜레스테롤.전체.rs77303550',\n",
       " '고지혈증.총콜레스테롤.전체.rs3786247',\n",
       " '고지혈증.HDL콜레스테롤.전체.rs12133576',\n",
       " '고지혈증.HDL콜레스테롤.전체.rs333947',\n",
       " '고지혈증.HDL콜레스테롤.전체.rs2144300',\n",
       " '고지혈증.HDL콜레스테롤.전체.rs325',\n",
       " '고지혈증.HDL콜레스테롤.전체.rs3808447',\n",
       " '고지혈증.HDL콜레스테롤.전체.rs1883025',\n",
       " '고지혈증.HDL콜레스테롤.전체.rs2068888',\n",
       " '고지혈증.HDL콜레스테롤.전체.rs4917630',\n",
       " '고지혈증.HDL콜레스테롤.전체.rs11067592',\n",
       " '고지혈증.HDL콜레스테롤.전체.rs671',\n",
       " '고지혈증.HDL콜레스테롤.전체.rs28577594',\n",
       " '고지혈증.HDL콜레스테롤.전체.rs67053123',\n",
       " '고지혈증.HDL콜레스테롤.전체.rs2070895',\n",
       " '고지혈증.HDL콜레스테롤.전체.rs2303790',\n",
       " '고지혈증.HDL콜레스테롤.전체.rs2925979',\n",
       " '고지혈증.HDL콜레스테롤.전체.rs235314',\n",
       " '고지혈증.중성지방.전체.rs2144300',\n",
       " '고지혈증.중성지방.전체.rs13306194',\n",
       " '고지혈증.중성지방.전체.rs1260326',\n",
       " '고지혈증.중성지방.전체.rs3752442',\n",
       " '고지혈증.중성지방.전체.rs154254',\n",
       " '고지혈증.중성지방.전체.rs4389834',\n",
       " '고지혈증.중성지방.전체.rs1059611',\n",
       " '고지혈증.중성지방.전체.rs17321515',\n",
       " '고지혈증.중성지방.전체.rs2068888',\n",
       " '고지혈증.중성지방.전체.rs1800588',\n",
       " '고지혈증.중성지방.전체.rs737337',\n",
       " '고지혈증.중성지방.전체.rs58542926',\n",
       " '고지혈증.중성지방.전체.rs75627662',\n",
       " '고지혈증.뇌졸중.전체.rs3897976',\n",
       " '고지혈증.심근경색.전체.rs75847266',\n",
       " '당뇨.당뇨.전체.rs11558471',\n",
       " '당뇨.당뇨.전체.rs2074356',\n",
       " '당뇨.혈당.전체.rs1260326',\n",
       " '당뇨.혈당.전체.rs12712928',\n",
       " '당뇨.혈당.전체.rs12053049',\n",
       " '당뇨.혈당.전체.rs11924032',\n",
       " '당뇨.혈당.전체.rs11705729',\n",
       " '당뇨.혈당.전체.rs9358356',\n",
       " '당뇨.혈당.전체.rs6975024',\n",
       " '당뇨.혈당.전체.rs13266634',\n",
       " '당뇨.혈당.전체.rs10974438',\n",
       " '당뇨.혈당.전체.rs60808706',\n",
       " '당뇨.혈당.전체.rs10830963',\n",
       " '당뇨.혈당.전체.rs671',\n",
       " '당뇨.혈당.전체.rs4581570',\n",
       " '당뇨.HbA1C.전체.rs2273833',\n",
       " '당뇨.HbA1C.전체.rs12712928',\n",
       " '당뇨.HbA1C.전체.rs12053049',\n",
       " '당뇨.HbA1C.전체.rs7356034',\n",
       " '당뇨.HbA1C.전체.rs35261542',\n",
       " '당뇨.HbA1C.전체.rs4737010',\n",
       " '당뇨.HbA1C.전체.rs3802177',\n",
       " '당뇨.HbA1C.전체.rs10965243',\n",
       " '당뇨.HbA1C.전체.rs12221133',\n",
       " '당뇨.HbA1C.전체.rs3741411',\n",
       " '당뇨.HbA1C.전체.rs2237897',\n",
       " '당뇨.HbA1C.전체.rs10830963',\n",
       " '당뇨.HbA1C.전체.rs72996113',\n",
       " '당뇨.HbA1C.전체.rs4886869',\n",
       " '당뇨.HbA1C.전체.rs837763',\n",
       " '당뇨.HbA1C.전체.rs2748427',\n",
       " '당뇨.HbA1C.전체.rs8067360',\n",
       " '당뇨.HbA1C.전체.rs59616136',\n",
       " '당뇨.심뇌혈관질환.전체.rs139293840',\n",
       " '비만.체질량지수비만.전체.rs6265',\n",
       " '비만.체질량지수비만.전체.rs9939609',\n",
       " '비만.복부비만.전체.rs10913469',\n",
       " '비만.대사증후군.전체.rs651821',\n",
       " '비만.대사증후군.전체.rs671',\n",
       " '비만.대사증후군.normal_weight.rs651821']"
      ]
     },
     "execution_count": 5,
     "metadata": {},
     "output_type": "execute_result"
    }
   ],
   "source": [
    "gene = pd.read_excel('C:/Code/Jupyter/DATA/bigdata_healthcare_data.xlsx','유전체')\n",
    "gene.drop(['CID'],axis=1,inplace=True)\n",
    "list(gene.columns)"
   ]
  },
  {
   "cell_type": "code",
   "execution_count": 6,
   "id": "a90388c2",
   "metadata": {},
   "outputs": [],
   "source": [
    "inputData = df[['Waist_1','Height_1','Weight_1','BMI_1','Fat_1','Muscle_1','SEX','AGE',\n",
    "              'DRINK','SMOKE','HTN','DM','DL']+list(gene.columns)]\n",
    "targetData = df[['category']]"
   ]
  },
  {
   "cell_type": "code",
   "execution_count": 7,
   "id": "58eb3b28",
   "metadata": {},
   "outputs": [],
   "source": [
    "inputData = inputData.to_numpy()\n",
    "targetData = targetData.to_numpy()\n",
    "train_input, test_input, train_target, test_target = train_test_split(inputData,targetData,test_size=0.2)"
   ]
  },
  {
   "cell_type": "code",
   "execution_count": 8,
   "id": "a06bb29d",
   "metadata": {},
   "outputs": [],
   "source": [
    "rs = RobustScaler()\n",
    "rs.fit(train_input)\n",
    "train_scaled = rs.transform(train_input)\n",
    "test_scaled = rs.transform(test_input)"
   ]
  },
  {
   "cell_type": "code",
   "execution_count": 9,
   "id": "19e53f3b",
   "metadata": {},
   "outputs": [
    {
     "name": "stderr",
     "output_type": "stream",
     "text": [
      "c:\\users\\a5267\\appdata\\local\\programs\\python\\python38\\lib\\site-packages\\sklearn\\model_selection\\_split.py:700: UserWarning: The least populated class in y has only 4 members, which is less than n_splits=5.\n",
      "  warnings.warn(\n"
     ]
    },
    {
     "name": "stdout",
     "output_type": "stream",
     "text": [
      "1.0 0.3653333333333334\n"
     ]
    }
   ],
   "source": [
    "rf = RandomForestClassifier(n_jobs=-1)\n",
    "scores = cross_validate(rf, train_scaled, train_target,\n",
    "                       return_train_score=True,n_jobs=-1)\n",
    "print(np.mean(scores['train_score']), np.mean(scores['test_score']))"
   ]
  },
  {
   "cell_type": "code",
   "execution_count": null,
   "id": "13ae97a0",
   "metadata": {},
   "outputs": [],
   "source": []
  }
 ],
 "metadata": {
  "kernelspec": {
   "display_name": "Python 3 (ipykernel)",
   "language": "python",
   "name": "python3"
  },
  "language_info": {
   "codemirror_mode": {
    "name": "ipython",
    "version": 3
   },
   "file_extension": ".py",
   "mimetype": "text/x-python",
   "name": "python",
   "nbconvert_exporter": "python",
   "pygments_lexer": "ipython3",
   "version": "3.8.2"
  }
 },
 "nbformat": 4,
 "nbformat_minor": 5
}
